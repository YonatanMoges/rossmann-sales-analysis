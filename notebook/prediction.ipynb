{
 "cells": [
  {
   "cell_type": "code",
   "execution_count": 5,
   "metadata": {},
   "outputs": [],
   "source": [
    "# Import custom module\n",
    "import sys\n",
    "import os\n",
    "sys.path.insert(0,os.path.abspath(\"../scripts\"))\n",
    "import prediction as pre\n",
    "import importlib\n",
    "importlib.reload(pre)\n",
    "\n",
    "import logging\n",
    "import pandas as pd"
   ]
  },
  {
   "cell_type": "code",
   "execution_count": 6,
   "metadata": {},
   "outputs": [
    {
     "name": "stdout",
     "output_type": "stream",
     "text": [
      "Store             int64\n",
      "DayOfWeek         int64\n",
      "Date             object\n",
      "Sales             int64\n",
      "Customers         int64\n",
      "Open              int64\n",
      "Promo             int64\n",
      "StateHoliday      int64\n",
      "SchoolHoliday     int64\n",
      "dtype: object\n",
      "[0]\n"
     ]
    }
   ],
   "source": [
    "# Load a small sample to inspect data\n",
    "train_sample = pd.read_csv('../data/train.csv', nrows=10)\n",
    "\n",
    "# Check the data types\n",
    "print(train_sample.dtypes)\n",
    "\n",
    "# Inspect values in column 7 (replace with actual column index or name)\n",
    "print(train_sample.iloc[:, 7].unique())\n",
    "\n",
    "# Load the full dataset with the correct dtype for column 7\n",
    "train = pd.read_csv('../data/train.csv', dtype={'StateHoliday': 'str'})  # Treat 'StateHoliday' as string\n"
   ]
  },
  {
   "cell_type": "code",
   "execution_count": 7,
   "metadata": {},
   "outputs": [],
   "source": [
    "# Configure logging\n",
    "logging.basicConfig(level=logging.INFO, format='%(asctime)s - %(levelname)s - %(message)s', filename='rossmann_sales_forecast.log')\n",
    "# Load the dataset\n",
    "test = pre.load_data('../data/test.csv')"
   ]
  },
  {
   "cell_type": "markdown",
   "metadata": {},
   "source": [
    "Pre-processing data"
   ]
  },
  {
   "cell_type": "code",
   "execution_count": 8,
   "metadata": {},
   "outputs": [],
   "source": [
    "#  Apply feature engineering\n",
    "train = pre.feature_engineering(train)\n",
    "test = pre.feature_engineering(test)"
   ]
  }
 ],
 "metadata": {
  "language_info": {
   "name": "python"
  }
 },
 "nbformat": 4,
 "nbformat_minor": 2
}
