{
 "cells": [
  {
   "cell_type": "code",
   "execution_count": 1,
   "metadata": {},
   "outputs": [],
   "source": [
    "# Import custom module\n",
    "import sys\n",
    "import os\n",
    "sys.path.insert(0,os.path.abspath(\"../scripts\"))\n",
    "import prediction as pre\n",
    "import importlib\n",
    "importlib.reload(pre)\n",
    "\n",
    "import logging\n",
    "import pandas as pd\n"
   ]
  },
  {
   "cell_type": "code",
   "execution_count": 2,
   "metadata": {},
   "outputs": [
    {
     "name": "stdout",
     "output_type": "stream",
     "text": [
      "Store             int64\n",
      "DayOfWeek         int64\n",
      "Date             object\n",
      "Sales             int64\n",
      "Customers         int64\n",
      "Open              int64\n",
      "Promo             int64\n",
      "StateHoliday      int64\n",
      "SchoolHoliday     int64\n",
      "dtype: object\n",
      "[0]\n"
     ]
    }
   ],
   "source": [
    "# Load a small sample to inspect data\n",
    "train_sample = pd.read_csv('../data/train.csv', nrows=10)\n",
    "\n",
    "# Check the data types\n",
    "print(train_sample.dtypes)\n",
    "\n",
    "# Inspect values in column 7 (replace with actual column index or name)\n",
    "print(train_sample.iloc[:, 7].unique())\n",
    "\n",
    "# Load the full dataset with the correct dtype for column 7\n",
    "train = pd.read_csv('../data/train.csv', dtype={'StateHoliday': 'str'})  # Treat 'StateHoliday' as string\n"
   ]
  },
  {
   "cell_type": "code",
   "execution_count": 3,
   "metadata": {},
   "outputs": [],
   "source": [
    "# Configure logging\n",
    "logging.basicConfig(level=logging.INFO, format='%(asctime)s - %(levelname)s - %(message)s', filename='rossmann_sales_forecast.log')\n",
    "# Load the dataset\n",
    "test = pre.load_data('../data/test.csv')"
   ]
  },
  {
   "cell_type": "markdown",
   "metadata": {},
   "source": [
    "Pre-processing data"
   ]
  },
  {
   "cell_type": "code",
   "execution_count": 4,
   "metadata": {},
   "outputs": [],
   "source": [
    "#  Apply feature engineering\n",
    "train = pre.feature_engineering(train)\n",
    "test = pre.feature_engineering(test)"
   ]
  },
  {
   "cell_type": "code",
   "execution_count": 5,
   "metadata": {},
   "outputs": [],
   "source": [
    "# Handle missing values\n",
    "train = pre.handle_missing(train)\n",
    "test = pre.handle_missing(test)"
   ]
  },
  {
   "cell_type": "code",
   "execution_count": 6,
   "metadata": {},
   "outputs": [],
   "source": [
    "# Prepare features and target\n",
    "X_train = train.drop(columns=['Sales', 'Customers', 'Date', 'Store'])\n",
    "y_train = train['Sales']\n",
    "X_test = test.drop(columns=['Date', 'Store'])"
   ]
  },
  {
   "cell_type": "code",
   "execution_count": 7,
   "metadata": {},
   "outputs": [],
   "source": [
    "# Encode categorical variables\n",
    "X_train_encoded, X_test_encoded = pre.encode_categorical(X_train, X_test)"
   ]
  },
  {
   "cell_type": "markdown",
   "metadata": {},
   "source": [
    "Building models with sklearn pipelines"
   ]
  },
  {
   "cell_type": "code",
   "execution_count": 8,
   "metadata": {},
   "outputs": [],
   "source": [
    "# Split data into training and validation sets\n",
    "X_train_split, X_val_split, y_train_split, y_val_split = pre.train_test_split(X_train_encoded, y_train, test_size=0.2, random_state=42)"
   ]
  },
  {
   "cell_type": "code",
   "execution_count": 9,
   "metadata": {},
   "outputs": [
    {
     "name": "stderr",
     "output_type": "stream",
     "text": [
      "c:\\Users\\HP\\AppData\\Local\\Programs\\Python\\Python39\\lib\\site-packages\\sklearn\\utils\\extmath.py:1137: RuntimeWarning: invalid value encountered in divide\n",
      "  updated_mean = (last_sum + new_sum) / updated_sample_count\n",
      "c:\\Users\\HP\\AppData\\Local\\Programs\\Python\\Python39\\lib\\site-packages\\sklearn\\utils\\extmath.py:1142: RuntimeWarning: invalid value encountered in divide\n",
      "  T = new_sum / new_sample_count\n",
      "c:\\Users\\HP\\AppData\\Local\\Programs\\Python\\Python39\\lib\\site-packages\\sklearn\\utils\\extmath.py:1162: RuntimeWarning: invalid value encountered in divide\n",
      "  new_unnormalized_variance -= correction**2 / new_sample_count\n"
     ]
    }
   ],
   "source": [
    "# Train the model\n",
    "model = pre.train_model(X_train_split, y_train_split)"
   ]
  },
  {
   "cell_type": "code",
   "execution_count": 10,
   "metadata": {},
   "outputs": [
    {
     "name": "stdout",
     "output_type": "stream",
     "text": [
      "RMSE: 2444.1386896772933\n"
     ]
    }
   ],
   "source": [
    "# Evaluate the model\n",
    "pre.evaluate_model(model, X_val_split, y_val_split)"
   ]
  },
  {
   "cell_type": "code",
   "execution_count": 11,
   "metadata": {},
   "outputs": [],
   "source": [
    "test['PredictedSales'] = model.predict(X_test_encoded)"
   ]
  },
  {
   "cell_type": "code",
   "execution_count": 12,
   "metadata": {},
   "outputs": [
    {
     "name": "stdout",
     "output_type": "stream",
     "text": [
      "Predictions saved.\n"
     ]
    }
   ],
   "source": [
    "# Save predictions to a CSV file\n",
    "test[['Id', 'PredictedSales']].to_csv('../data/predicted_sales.csv', index=False)\n",
    "print(\"Predictions saved.\")"
   ]
  },
  {
   "cell_type": "markdown",
   "metadata": {},
   "source": [
    "Choose a loss function"
   ]
  },
  {
   "cell_type": "markdown",
   "metadata": {},
   "source": [
    "Root Mean Squared Error (RMSE):\n",
    "\n",
    "RMSE gives higher weight to large errors, making it suitable for cases where outliers or large deviations matter. Since you're predicting sales, having a few large errors could be detrimental to business planning, so RMSE is often a good choice.\n",
    "Pros: Sensitive to large errors (e.g., over-predicting sales for a store by a large margin).\n",
    "Cons: May overly penalize outliers."
   ]
  },
  {
   "cell_type": "code",
   "execution_count": 13,
   "metadata": {},
   "outputs": [
    {
     "name": "stdout",
     "output_type": "stream",
     "text": [
      "Root Mean Squared Error: 2444.1386896772933\n"
     ]
    }
   ],
   "source": [
    "# Make predictions for the validation set\n",
    "y_pred = model.predict(X_val_split)\n",
    "\n",
    "# Calculate RMSE\n",
    "from sklearn.metrics import mean_squared_error\n",
    "import numpy as np\n",
    "\n",
    "rmse = np.sqrt(mean_squared_error(y_val_split, y_pred))\n",
    "print(f\"Root Mean Squared Error: {rmse}\")\n"
   ]
  }
 ],
 "metadata": {
  "language_info": {
   "name": "python"
  }
 },
 "nbformat": 4,
 "nbformat_minor": 2
}
